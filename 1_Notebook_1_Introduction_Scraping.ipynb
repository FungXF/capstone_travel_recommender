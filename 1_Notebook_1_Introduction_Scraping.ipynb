{
 "cells": [
  {
   "cell_type": "markdown",
   "id": "b40883b7-6238-44e9-8c6e-771d4a12e93c",
   "metadata": {},
   "source": [
    "# Capstone - Travel Recommender (WanderLust)"
   ]
  },
  {
   "cell_type": "markdown",
   "id": "72fec759-8deb-4087-8014-337128627d63",
   "metadata": {},
   "source": [
    "## Notebook 1 of 4\n",
    "- **Notebook 1: Introduction, Scraping**\n",
    "- Notebook 2: Combining Datasets, Data Cleaning, EDA and Base Model\n",
    "- Notebook 3: NLP (Sentiment Analysis), Feature Engineering + EDA + Model(With Feature Engineering) Conclusion + Recommendations\n",
    "- Notebook 4: Google Cloud + Streamlit"
   ]
  },
  {
   "cell_type": "markdown",
   "id": "631d59a6-a708-454f-a632-d000a60be21e",
   "metadata": {
    "tags": []
   },
   "source": [
    "## Executive Summary"
   ]
  },
  {
   "cell_type": "markdown",
   "id": "4f2a12fc-3951-414f-8097-fd976a757d1c",
   "metadata": {
    "jp-MarkdownHeadingCollapsed": true,
    "tags": []
   },
   "source": [
    "### Introduction & Background\n",
    "Tourism is defined as when people travel and stay in places outside of their usual environment for less than one consecutive year for leisure, business, health, or other reasons. [link](https://www.statista.com/topics/962/global-tourism/#dossierContents__outerWrapper). Globally it is made up 10 percent of global GDP in 2019 and was worth almost $9 trillion. [link](https://www.mckinsey.com/industries/travel-logistics-and-infrastructure/our-insights/reimagining-the-9-trillion-tourism-economy-what-will-it-take)\n",
    "\n",
    "With post-covid times settling in, more people are looking into leisure travel and finding things to do overseas to fill up their itinerary. But, with the overwhelming amount of information available online and so many options available, the process of finding something one prefer to do can be a hassle. \n",
    "\n",
    "Popular travel websites in recent times, such as (e.g. [Tripadvisor.com](https://www.tripadvisor.com/), [Expedia.com](https://www.expedia.com/) and [Booking.com](https://www.booking.com/attractions/index.html?aid=397594&label=gog235jc-1DCAEoggI46AdIM1gDaMkBiAEBmAExuAEXyAEP2AED6AEB-AECiAIBqAIDuAL_3MGbBsACAdICJGQ2NDZlYjljLTJiNDEtNGM5Yi05NDExLTQzNzIyYmE5MjFiMtgCBOACAQ&sid=0bd894e0a09fa5a41d0d1005be44fb09)) prioritise country location as an input before recommending the activities.\n",
    "\n",
    "Research has shown that 97% of the travel consumers are influenced by customer post-experience reviews when it comes to making a purchase decision. Hence, we decided to incorporate reviews and ratings by unique individuals on the activity on the modelling system. Sentiment analysis was done using a pretrained model from Hugging Face [cardiffnlp/twitter-roberta-base-sentiment](https://huggingface.co/cardiffnlp/twitter-roberta-base-sentiment). The result was that the more positive the activity is received, plus matching to the degree of the genre the user is interested in, the more likely it would be recommended. \n",
    "\n",
    "What’s interesting is that this might include activities that user might not have specifically tried before. For example, the user might not know Snowshoeing, however the same user who likes adventure and nature and has rated it high in interest may be recommended Snowshoeing as an activity. The Travel Recommendation System not only would be a useful tool especially for those that focus on activity research over location when it comes to travelling, but also can be a trusted source since it is based on analysing past reviews."
   ]
  },
  {
   "cell_type": "markdown",
   "id": "479c5f6d-e524-49ce-bf5c-8b1690cb7b81",
   "metadata": {},
   "source": [
    "### Problem Statement\n",
    "- Popular travel websites in recent times, such as (e.g. [Tripadvisor.com](https://www.tripadvisor.com/), [Expedia.com](https://www.expedia.com/) and [Booking.com](https://www.booking.com/attractions/index.html?aid=397594&label=gog235jc-1DCAEoggI46AdIM1gDaMkBiAEBmAExuAEXyAEP2AED6AEB-AECiAIBqAIDuAL_3MGbBsACAdICJGQ2NDZlYjljLTJiNDEtNGM5Yi05NDExLTQzNzIyYmE5MjFiMtgCBOACAQ&sid=0bd894e0a09fa5a41d0d1005be44fb09)) prioritise country location as an input before recommending the activities. However, that assumes that everyone has already decided on the country they are planning to go to. What if the person, or user, has not decided where to go, or prefers to choose based on their hobby or interest? \n",
    "\n",
    "- That’s where the Travel Recommender System comes in. It pulls out a list of 6 things that a user is likely to enjoy, based on what they like to do when they travel and how important it is to do a genre of activity when overseas. "
   ]
  },
  {
   "cell_type": "markdown",
   "id": "1bf3c721-3a97-41ad-a9ce-3668e6768666",
   "metadata": {
    "tags": []
   },
   "source": [
    "### Project Goals\n",
    "1. To achieve accurate recommendations based on user’s selection of categories of activities they would like to do, especially for new users (cold start issue)\n",
    "2. Incorporate sentiment analysis of reviews to modelling - feature engineering"
   ]
  },
  {
   "cell_type": "markdown",
   "id": "09b549b9-ca9d-474f-a9ed-4a3b25ce1028",
   "metadata": {},
   "source": [
    "# Scraping"
   ]
  },
  {
   "cell_type": "markdown",
   "id": "60e901ab-475c-46c6-8773-8baadb2f8423",
   "metadata": {},
   "source": [
    "- Some of the information that were not in the dataset includes\n",
    "1. Description of the activity\n",
    "2. Duration of the activity\n",
    "3. URL of images"
   ]
  },
  {
   "cell_type": "code",
   "execution_count": 1,
   "id": "d1437847-93fa-47be-beca-4d4a1b6f4928",
   "metadata": {},
   "outputs": [],
   "source": [
    "import pandas as pd\n",
    "import csv\n",
    "import time\n",
    "\n",
    "from selenium import webdriver\n",
    "from selenium.webdriver.chrome.service import Service\n",
    "from selenium.webdriver.chrome.options import Options\n",
    "from selenium.webdriver.common.by import By\n",
    "from selenium.webdriver.support.ui import WebDriverWait\n",
    "from selenium.webdriver.support import expected_conditions as EC\n",
    "from selenium.common.exceptions import TimeoutException\n",
    "import urllib"
   ]
  },
  {
   "cell_type": "code",
   "execution_count": 2,
   "id": "520d7bdb-6417-453c-9d45-345eede1ccce",
   "metadata": {},
   "outputs": [],
   "source": [
    "final_att_data = pd.read_csv('datasets/final_attractions_data.csv')"
   ]
  },
  {
   "cell_type": "code",
   "execution_count": 3,
   "id": "b185b23a-e821-42d4-9f33-eab571d023eb",
   "metadata": {},
   "outputs": [],
   "source": [
    "option = webdriver.ChromeOptions()\n",
    "chrome_executable = Service('/Users/calerlime/OneDrive/my_materials/capstone/chromedriver.exe')\n",
    "driver = webdriver.Chrome(service=chrome_executable)\n",
    "driver.implicitly_wait(15)\n",
    "\n",
    "path_to_file = \"./datasets/durationdescriptionimages.csv\"\n",
    "\n",
    "csvFile = open(path_to_file, 'a',  encoding = \"utf-8\")\n",
    "header = [\"attraction_id\", \"attraction\", \"description\", \"duration\", \"images\"]\n",
    "csvWriter = csv.DictWriter(csvFile, fieldnames = header)\n",
    "csvWriter.writeheader()\n",
    "\n",
    "# Split the index of the file to scrap the website on interval\n",
    "start = [0,400,800,1200,1600]\n",
    "end = [400,800,1200,1600,1705]\n",
    "    \n",
    "for starting, ending in zip(start, end):\n",
    "    \n",
    "    for i in range(starting, ending):\n",
    "\n",
    "        # url you want to scrape\n",
    "        cat_url = final_att_data['attraction'][i]\n",
    "        driver.get(cat_url) \n",
    "\n",
    "        # this is where you want to place your csv file. so actually can do the '../dataset/duration.csv' probably. \n",
    "        path_to_file = \"./datasets/durationdescriptionimages.csv\"\n",
    "\n",
    "        try:           \n",
    "            # Scraping the activity's description\n",
    "            WebDriverWait(driver, 10).until(EC.visibility_of_element_located((By.CSS_SELECTOR, \"div.biGQs._P.pZUbB.Whbsa.KxBGd\")))\n",
    "            description = driver.find_element(By.CSS_SELECTOR, \"div.biGQs._P.pZUbB.Whbsa.KxBGd\").text  \n",
    "            \n",
    "            #  Scraping the duration of activity of the page\n",
    "            WebDriverWait(driver, 10).until(EC.visibility_of_element_located((By.CSS_SELECTOR, \"span.biGQs._P.pZUbB.egaXP.KxBGd\"))) #Wait till this element appear before scraping\n",
    "            duration = driver.find_elements(By.CSS_SELECTOR, \"span.biGQs._P.pZUbB.egaXP.KxBGd\")[2].text\n",
    "            \n",
    "            #  Scraping the URL of the first image of the page\n",
    "            images = driver.find_elements(By.CSS_SELECTOR, \"div.Kxegy._R.w._Z.GA\")[0].get_attribute(\"style\")\n",
    "            \n",
    "        except:\n",
    "            \n",
    "            duration = 'NA'\n",
    "            \n",
    "        # create and open csv file\n",
    "        csvFile = open(path_to_file, 'a',  encoding = \"utf-8\")\n",
    "        header = [\"attraction_id\", \"attraction\", \"description\", \"duration\", \"images\"]\n",
    "        csvWriter = csv.DictWriter(csvFile, fieldnames = header)\n",
    "        csvWriter.writerow({\"attraction_id\": final_att_data['attraction_id'][i], \"attraction\":final_att_data['attraction'][i], \n",
    "                            \"description\": description, \"duration\": duration, \"images\": images})\n",
    "\n",
    "# Add time to sleep so that it wouldn't flood the website with requests\n",
    "    # time.sleep(300)\n",
    "\n",
    "driver.close()"
   ]
  },
  {
   "cell_type": "code",
   "execution_count": 4,
   "id": "cf367e06-682a-4bd3-96a6-121d3ba69f70",
   "metadata": {},
   "outputs": [],
   "source": [
    "driver.quit()"
   ]
  },
  {
   "cell_type": "markdown",
   "id": "5327f38e-0021-43fa-8a8b-ec77891f8a22",
   "metadata": {},
   "source": [
    "- The scraping file is saved as 'durationdescriptionimages.csv' and will be added to the other datasets in Notebook 2."
   ]
  }
 ],
 "metadata": {
  "kernelspec": {
   "display_name": "Python 3 (ipykernel)",
   "language": "python",
   "name": "python3"
  },
  "language_info": {
   "codemirror_mode": {
    "name": "ipython",
    "version": 3
   },
   "file_extension": ".py",
   "mimetype": "text/x-python",
   "name": "python",
   "nbconvert_exporter": "python",
   "pygments_lexer": "ipython3",
   "version": "3.8.13"
  }
 },
 "nbformat": 4,
 "nbformat_minor": 5
}
