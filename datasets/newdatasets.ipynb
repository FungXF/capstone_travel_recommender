{
 "cells": [
  {
   "cell_type": "code",
   "execution_count": 1,
   "id": "ee4354f9-efa8-4720-8a07-8560e848b50d",
   "metadata": {},
   "outputs": [],
   "source": [
    "import pickle\n",
    "import numpy as np\n",
    "import pandas as pd"
   ]
  },
  {
   "cell_type": "code",
   "execution_count": 2,
   "id": "1f4379c2-927c-4b2f-a0ce-3a1639db48f5",
   "metadata": {},
   "outputs": [],
   "source": [
    "attract = pickle.load(open('att_canada_ratesen.pkl','rb'))\n",
    "attractions = pd.DataFrame(attract)"
   ]
  },
  {
   "cell_type": "code",
   "execution_count": 3,
   "id": "d5bae2d0-8369-4049-a886-0440bdcc0800",
   "metadata": {},
   "outputs": [
    {
     "name": "stdout",
     "output_type": "stream",
     "text": [
      "<class 'pandas.core.frame.DataFrame'>\n",
      "Int64Index: 1653 entries, 0 to 1704\n",
      "Data columns (total 36 columns):\n",
      " #   Column                     Non-Null Count  Dtype  \n",
      "---  ------                     --------------  -----  \n",
      " 0   attraction_id              1653 non-null   int64  \n",
      " 1   name                       1653 non-null   object \n",
      " 2   country                    1653 non-null   object \n",
      " 3   province                   1653 non-null   object \n",
      " 4   city_name                  1653 non-null   object \n",
      " 5   rating                     1653 non-null   float64\n",
      " 6   group_reviews              745 non-null    object \n",
      " 7   attraction                 1653 non-null   object \n",
      " 8   description                1653 non-null   object \n",
      " 9   duration                   1652 non-null   object \n",
      " 10  images                     1653 non-null   object \n",
      " 11  accommodation              1653 non-null   int64  \n",
      " 12  adventure                  1653 non-null   int64  \n",
      " 13  air tour                   1653 non-null   int64  \n",
      " 14  beach                      1653 non-null   int64  \n",
      " 15  camping                    1653 non-null   int64  \n",
      " 16  city                       1653 non-null   int64  \n",
      " 17  classes & workshops        1653 non-null   int64  \n",
      " 18  cruise                     1653 non-null   int64  \n",
      " 19  entertainment              1653 non-null   int64  \n",
      " 20  experience                 1653 non-null   int64  \n",
      " 21  food                       1653 non-null   int64  \n",
      " 22  hiking                     1653 non-null   int64  \n",
      " 23  island                     1653 non-null   int64  \n",
      " 24  land tour                  1653 non-null   int64  \n",
      " 25  mountain views             1653 non-null   int64  \n",
      " 26  nature                     1653 non-null   int64  \n",
      " 27  park                       1653 non-null   int64  \n",
      " 28  photography                1653 non-null   int64  \n",
      " 29  rental                     1653 non-null   int64  \n",
      " 30  sea tour                   1653 non-null   int64  \n",
      " 31  sightseeing                1653 non-null   int64  \n",
      " 32  transport                  1653 non-null   int64  \n",
      " 33  wildlife                   1653 non-null   int64  \n",
      " 34  brewery/winery/distillery  1653 non-null   int64  \n",
      " 35  rating_senti               1653 non-null   float64\n",
      "dtypes: float64(2), int64(25), object(9)\n",
      "memory usage: 477.8+ KB\n"
     ]
    }
   ],
   "source": [
    "attractions.info()"
   ]
  },
  {
   "cell_type": "code",
   "execution_count": 4,
   "id": "86010c08-0171-4094-8c93-0431e9d57cc4",
   "metadata": {},
   "outputs": [
    {
     "data": {
      "text/plain": [
       "0       0.868883\n",
       "1       0.911295\n",
       "2       0.790259\n",
       "3       0.824561\n",
       "4       0.958748\n",
       "          ...   \n",
       "1699    1.000000\n",
       "1700    0.980507\n",
       "1702    0.978375\n",
       "1703    0.978375\n",
       "1704    0.978375\n",
       "Name: rating_senti, Length: 1653, dtype: float64"
      ]
     },
     "execution_count": 4,
     "metadata": {},
     "output_type": "execute_result"
    }
   ],
   "source": [
    "attractions['rating_senti']"
   ]
  },
  {
   "cell_type": "code",
   "execution_count": 4,
   "id": "25252092-d126-4ed4-943a-df2aaf8f6b03",
   "metadata": {},
   "outputs": [],
   "source": [
    "attractions.to_csv('newsave.csv')"
   ]
  },
  {
   "cell_type": "code",
   "execution_count": null,
   "id": "84f814ca-b17b-4739-bb94-f0fab5041433",
   "metadata": {},
   "outputs": [],
   "source": []
  }
 ],
 "metadata": {
  "kernelspec": {
   "display_name": "Python 3 (ipykernel)",
   "language": "python",
   "name": "python3"
  },
  "language_info": {
   "codemirror_mode": {
    "name": "ipython",
    "version": 3
   },
   "file_extension": ".py",
   "mimetype": "text/x-python",
   "name": "python",
   "nbconvert_exporter": "python",
   "pygments_lexer": "ipython3",
   "version": "3.8.13"
  }
 },
 "nbformat": 4,
 "nbformat_minor": 5
}
